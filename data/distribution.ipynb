{
 "cells": [
  {
   "cell_type": "code",
   "execution_count": 1,
   "id": "7ecffcf0",
   "metadata": {},
   "outputs": [],
   "source": [
    "import pandas as pd\n",
    "import sys\n",
    "import json\n",
    "import os\n",
    "\n",
    "current_dir = os.getcwd()\n",
    "src_path = os.path.join(current_dir, '..')\n",
    "sys.path.append(src_path)\n",
    "\n",
    "from utils import *"
   ]
  },
  {
   "cell_type": "markdown",
   "id": "199001d5",
   "metadata": {},
   "source": [
    "### 1. Dataset-GSS distribution"
   ]
  },
  {
   "cell_type": "code",
   "execution_count": 2,
   "id": "1cf53c75",
   "metadata": {},
   "outputs": [
    {
     "name": "stdout",
     "output_type": "stream",
     "text": [
      "6152\n",
      "Reading data from 'dataset1_gemini-2.5-pro.jsonl'...\n"
     ]
    },
    {
     "data": {
      "text/plain": [
       "Index(['image_id', 'source', 'orig_id', 'url', 'label_method', 'city',\n",
       "       'city_id', 'country', 'continent', 'latitude', 'longitude',\n",
       "       'datetime_local', 'sequence_index', 'sequence_id', 'split', 'img_path',\n",
       "       'glare', 'lighting_condition', 'pano_status', 'platform', 'quality',\n",
       "       'reflection', 'view_direction', 'weather', 'environment', 'scene_type',\n",
       "       'setting'],\n",
       "      dtype='object')"
      ]
     },
     "execution_count": 2,
     "metadata": {},
     "output_type": "execute_result"
    }
   ],
   "source": [
    "image_directory = 'dataset1/'\n",
    "files_in_directory = set(os.listdir(image_directory))\n",
    "files_in_directory = {f.replace('.jpeg', '') for f in files_in_directory if f.endswith('.jpeg')}\n",
    "\n",
    "df1 = pd.read_csv('dataset1_info.csv')\n",
    "filtered_df1 = df1[df1['image_id'].isin(files_in_directory)].copy()\n",
    "print(len(filtered_df1))\n",
    "\n",
    "llm_df1 = process_jsonl_to_dataframe('dataset1_gemini-2.5-pro.jsonl')\n",
    "llm_df1['image_id'] = llm_df1['image_file'].str.replace('.jpeg', '')\n",
    "llm_df1 = llm_df1[['image_id', 'environment', 'scene_type', 'setting']]\n",
    "\n",
    "final_df1 = pd.merge(filtered_df1, llm_df1, on='image_id', how='inner')\n",
    "final_df1.columns"
   ]
  },
  {
   "cell_type": "code",
   "execution_count": 3,
   "id": "b0e36c31",
   "metadata": {},
   "outputs": [
    {
     "name": "stdout",
     "output_type": "stream",
     "text": [
      "               feature       value  count\n",
      "0   lighting_condition         day   5601\n",
      "1   lighting_condition   dusk/dawn    319\n",
      "2   lighting_condition       night    232\n",
      "3           reflection          no   6152\n",
      "4       view_direction  front/back   5451\n",
      "5       view_direction        side    701\n",
      "6              weather       clear   4638\n",
      "7              weather      cloudy   1189\n",
      "8              weather       snowy    175\n",
      "9              weather       rainy    147\n",
      "10             weather       foggy      3\n"
     ]
    }
   ],
   "source": [
    "columns_to_summarize = [\n",
    "    'lighting_condition', \n",
    "    'reflection', \n",
    "    'view_direction', \n",
    "    'weather'\n",
    "]\n",
    "\n",
    "all_summaries = []\n",
    "\n",
    "for col in columns_to_summarize:\n",
    "    if col in filtered_df1.columns:\n",
    "        summary = filtered_df1[col].value_counts().reset_index()\n",
    "        summary.columns = ['value', 'count']\n",
    "        summary['feature'] = col\n",
    "        all_summaries.append(summary)\n",
    "\n",
    "final_summary_df = pd.concat(all_summaries, ignore_index=True)\n",
    "final_summary_df = final_summary_df[['feature', 'value', 'count']]\n",
    "\n",
    "print(final_summary_df)"
   ]
  },
  {
   "cell_type": "code",
   "execution_count": 4,
   "id": "1719146a",
   "metadata": {},
   "outputs": [
    {
     "name": "stdout",
     "output_type": "stream",
     "text": [
      "        feature     value  count\n",
      "0   environment   outdoor   6144\n",
      "1   environment     mixed      5\n",
      "2   environment    indoor      2\n",
      "3    scene_type    street   4636\n",
      "4    scene_type     mixed   1072\n",
      "5    scene_type   scenery    414\n",
      "6    scene_type  building     29\n",
      "7       setting     urban   4350\n",
      "8       setting  suburban    998\n",
      "9       setting     rural    755\n",
      "10      setting   natural     48\n"
     ]
    }
   ],
   "source": [
    "columns_to_summarize = [\n",
    "    'environment', \n",
    "    'scene_type', \n",
    "    'setting'\n",
    "]\n",
    "\n",
    "all_summaries = []\n",
    "\n",
    "for col in columns_to_summarize:\n",
    "    if col in final_df1.columns:\n",
    "        summary = final_df1[col].value_counts().reset_index()\n",
    "        summary.columns = ['value', 'count']\n",
    "        summary['feature'] = col\n",
    "        all_summaries.append(summary)\n",
    "\n",
    "final_summary_df = pd.concat(all_summaries, ignore_index=True)\n",
    "final_summary_df = final_summary_df[['feature', 'value', 'count']]\n",
    "\n",
    "print(final_summary_df)"
   ]
  },
  {
   "cell_type": "markdown",
   "id": "66b4d03f",
   "metadata": {},
   "source": [
    "### 2. Dataset-UPC Distribution"
   ]
  },
  {
   "cell_type": "code",
   "execution_count": 6,
   "id": "56782de3",
   "metadata": {},
   "outputs": [
    {
     "name": "stdout",
     "output_type": "stream",
     "text": [
      "2928\n",
      "Reading data from 'dataset2_gemini-2.5-pro.jsonl'...\n"
     ]
    },
    {
     "data": {
      "text/plain": [
       "Index(['image_id', 'name', 'address', 'gmap_id', 'description', 'latitude',\n",
       "       'longitude', 'category', 'avg_rating', 'num_of_reviews', 'price',\n",
       "       'hours', 'MISC', 'relative_results', 'url', 'category_list', 'street',\n",
       "       'city', 'state', 'environment', 'scene_type', 'setting'],\n",
       "      dtype='object')"
      ]
     },
     "execution_count": 6,
     "metadata": {},
     "output_type": "execute_result"
    }
   ],
   "source": [
    "image_directory = 'dataset2/'\n",
    "files_in_directory = set(os.listdir(image_directory))\n",
    "files_in_directory = {f.replace('.jpg', '') for f in files_in_directory if f.endswith('.jpg')}\n",
    "\n",
    "df2 = pd.read_csv('dataset2_info.csv')\n",
    "filtered_df2 = df2[df2['image_id'].isin(files_in_directory)].copy()\n",
    "print(len(filtered_df2))\n",
    "\n",
    "llm_df2 = process_jsonl_to_dataframe('dataset2_gemini-2.5-pro.jsonl')\n",
    "llm_df2['image_id'] = llm_df2['image_file'].str.replace('.jpg', '')\n",
    "llm_df2 = llm_df2[['image_id', 'environment', 'scene_type', 'setting']]\n",
    "\n",
    "final_df2 = pd.merge(filtered_df2, llm_df2, on='image_id', how='inner')\n",
    "final_df2.columns"
   ]
  },
  {
   "cell_type": "code",
   "execution_count": 6,
   "id": "9dc9b81b",
   "metadata": {},
   "outputs": [
    {
     "name": "stdout",
     "output_type": "stream",
     "text": [
      "        feature     value  count\n",
      "0   environment   outdoor   2400\n",
      "1   environment    indoor    522\n",
      "2   environment     mixed      5\n",
      "3    scene_type  building   1719\n",
      "4    scene_type     mixed    685\n",
      "5    scene_type   scenery    403\n",
      "6    scene_type    street    120\n",
      "7       setting  suburban   1675\n",
      "8       setting     urban    595\n",
      "9       setting     rural    373\n",
      "10      setting   natural    283\n",
      "11      setting     mixed      1\n"
     ]
    }
   ],
   "source": [
    "columns_to_summarize = [\n",
    "    'environment', \n",
    "    'scene_type', \n",
    "    'setting'\n",
    "]\n",
    "\n",
    "all_summaries = []\n",
    "\n",
    "for col in columns_to_summarize:\n",
    "    if col in final_df2.columns:\n",
    "        summary = final_df2[col].value_counts().reset_index()\n",
    "        summary.columns = ['value', 'count']\n",
    "        summary['feature'] = col\n",
    "        all_summaries.append(summary)\n",
    "\n",
    "final_summary_df = pd.concat(all_summaries, ignore_index=True)\n",
    "final_summary_df = final_summary_df[['feature', 'value', 'count']]\n",
    "\n",
    "print(final_summary_df)"
   ]
  },
  {
   "cell_type": "markdown",
   "id": "ab1cc1fb",
   "metadata": {},
   "source": [
    "### 3. Dataset-PCW Distribution"
   ]
  },
  {
   "cell_type": "code",
   "execution_count": 8,
   "id": "585ef4ee",
   "metadata": {},
   "outputs": [
    {
     "name": "stdout",
     "output_type": "stream",
     "text": [
      "270\n",
      "Reading data from 'dataset3_gemini-2.5-pro.jsonl'...\n"
     ]
    },
    {
     "data": {
      "text/plain": [
       "Index(['image_id', 'address', 'latitude', 'longitude', 'street', 'city',\n",
       "       'state', 'country', 'environment', 'scene_type', 'setting'],\n",
       "      dtype='object')"
      ]
     },
     "execution_count": 8,
     "metadata": {},
     "output_type": "execute_result"
    }
   ],
   "source": [
    "image_directory = 'dataset3/'\n",
    "files_in_directory = set(os.listdir(image_directory))\n",
    "files_in_directory = {f.replace('.jpg', '') for f in files_in_directory if f.endswith('.jpg')}\n",
    "\n",
    "df3 = pd.read_csv('dataset3_info.csv')\n",
    "filtered_df3 = df3[df3['image_id'].isin(files_in_directory)].copy()\n",
    "print(len(filtered_df3))\n",
    "\n",
    "llm_df3 = process_jsonl_to_dataframe('dataset3_gemini-2.5-pro.jsonl')\n",
    "llm_df3['image_id'] = llm_df3['image_file'].str.replace('.jpg', '')\n",
    "llm_df3 = llm_df3[['image_id', 'environment', 'scene_type', 'setting']]\n",
    "\n",
    "final_df3 = pd.merge(filtered_df3, llm_df3, on='image_id', how='inner')\n",
    "final_df3.columns"
   ]
  },
  {
   "cell_type": "code",
   "execution_count": 8,
   "id": "e5de6504",
   "metadata": {},
   "outputs": [
    {
     "name": "stdout",
     "output_type": "stream",
     "text": [
      "        feature     value  count\n",
      "0   environment   outdoor    264\n",
      "1   environment    indoor      4\n",
      "2   environment     mixed      2\n",
      "3    scene_type     mixed    141\n",
      "4    scene_type   scenery     56\n",
      "5    scene_type  building     40\n",
      "6    scene_type    street     33\n",
      "7       setting     urban    149\n",
      "8       setting  suburban     81\n",
      "9       setting   natural     31\n",
      "10      setting     rural      8\n",
      "11      setting     mixed      1\n"
     ]
    }
   ],
   "source": [
    "columns_to_summarize = [\n",
    "    'environment', \n",
    "    'scene_type', \n",
    "    'setting'\n",
    "]\n",
    "\n",
    "all_summaries = []\n",
    "\n",
    "for col in columns_to_summarize:\n",
    "    if col in final_df3.columns:\n",
    "        summary = final_df3[col].value_counts().reset_index()\n",
    "        summary.columns = ['value', 'count']\n",
    "        summary['feature'] = col\n",
    "        all_summaries.append(summary)\n",
    "\n",
    "final_summary_df = pd.concat(all_summaries, ignore_index=True)\n",
    "final_summary_df = final_summary_df[['feature', 'value', 'count']]\n",
    "\n",
    "print(final_summary_df)"
   ]
  }
 ],
 "metadata": {
  "kernelspec": {
   "display_name": "Python 3",
   "language": "python",
   "name": "python3"
  },
  "language_info": {
   "codemirror_mode": {
    "name": "ipython",
    "version": 3
   },
   "file_extension": ".py",
   "mimetype": "text/x-python",
   "name": "python",
   "nbconvert_exporter": "python",
   "pygments_lexer": "ipython3",
   "version": "3.9.6"
  }
 },
 "nbformat": 4,
 "nbformat_minor": 5
}
